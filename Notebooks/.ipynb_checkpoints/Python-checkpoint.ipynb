{
 "cells": [
  {
   "cell_type": "code",
   "execution_count": 13,
   "metadata": {},
   "outputs": [],
   "source": [
    "objects = [1,3,4,4,5,6,7,4,6,7,3,4,3,4]"
   ]
  },
  {
   "cell_type": "code",
   "execution_count": 14,
   "metadata": {},
   "outputs": [
    {
     "name": "stdout",
     "output_type": "stream",
     "text": [
      "6\n"
     ]
    }
   ],
   "source": [
    "ans = 0\n",
    "list_of_objects = []\n",
    "for obj in objects:\n",
    "    if obj in list_of_objects:\n",
    "        continue\n",
    "    else:\n",
    "        list_of_objects.append(obj)\n",
    "    ans += 1\n",
    "print(ans)"
   ]
  },
  {
   "cell_type": "code",
   "execution_count": 21,
   "metadata": {},
   "outputs": [],
   "source": [
    "def list_sum(lst):\n",
    "    count = 0\n",
    "    for x in lst:\n",
    "        count += x\n",
    "    print(count)"
   ]
  },
  {
   "cell_type": "code",
   "execution_count": 22,
   "metadata": {},
   "outputs": [
    {
     "name": "stdout",
     "output_type": "stream",
     "text": [
      "19\n"
     ]
    }
   ],
   "source": [
    "list_sum([1,3,4,5,6])"
   ]
  },
  {
   "cell_type": "code",
   "execution_count": 45,
   "metadata": {},
   "outputs": [],
   "source": [
    "#y больше или равно x\n",
    "#y делится нацело на 5\n",
    "def closest_mod_5(x):\n",
    "    y=x\n",
    "    if y % 5 == 0 & y>=x:\n",
    "        return x\n",
    "    else:\n",
    "        y+=1\n",
    "    print(y)"
   ]
  },
  {
   "cell_type": "code",
   "execution_count": 46,
   "metadata": {},
   "outputs": [
    {
     "name": "stdout",
     "output_type": "stream",
     "text": [
      "778\n"
     ]
    }
   ],
   "source": [
    "closest_mod_5(777)"
   ]
  },
  {
   "cell_type": "code",
   "execution_count": 47,
   "metadata": {},
   "outputs": [],
   "source": [
    "def closest_mod_5(x):\n",
    "    y=x\n",
    "    while y % 5 != 0:\n",
    "        y+=1\n",
    "    print(y)"
   ]
  },
  {
   "cell_type": "code",
   "execution_count": 48,
   "metadata": {},
   "outputs": [
    {
     "name": "stdout",
     "output_type": "stream",
     "text": [
      "780\n"
     ]
    }
   ],
   "source": [
    "closest_mod_5(777)"
   ]
  },
  {
   "cell_type": "code",
   "execution_count": 11,
   "metadata": {},
   "outputs": [],
   "source": [
    "def printab(**kwargs):\n",
    "    for key in kwargs:\n",
    "        print(key, kwargs[key])"
   ]
  },
  {
   "cell_type": "code",
   "execution_count": 12,
   "metadata": {},
   "outputs": [
    {
     "name": "stdout",
     "output_type": "stream",
     "text": [
      "a 10\n",
      "b 20\n",
      "c 777\n"
     ]
    }
   ],
   "source": [
    "printab(a=10,b=20,c=777)"
   ]
  },
  {
   "cell_type": "code",
   "execution_count": 16,
   "metadata": {},
   "outputs": [
    {
     "name": "stdout",
     "output_type": "stream",
     "text": [
      "111 222\n",
      "0\n"
     ]
    }
   ],
   "source": [
    "def C(n, k):\n",
    "    if k == 0:\n",
    "        return 1\n",
    "    elif k > n:\n",
    "        return 0\n",
    "    else:\n",
    "        return C(n - 1, k) + C(n - 1, k - 1)\n",
    "\n",
    "n, k = map(int, input().split())\n",
    "print(C(n, k))"
   ]
  },
  {
   "cell_type": "code",
   "execution_count": 13,
   "metadata": {},
   "outputs": [
    {
     "name": "stdout",
     "output_type": "stream",
     "text": [
      "1\n",
      "3\n"
     ]
    }
   ],
   "source": [
    "x, y = 1, 2\n",
    "\n",
    "def foo():\n",
    "    global y\n",
    "    if y == 2:\n",
    "        x = 2\n",
    "        y = 1\n",
    "\n",
    "foo()\n",
    "print(x)\n",
    "if y == 1:\n",
    "    x = 3\n",
    "print(x)"
   ]
  },
  {
   "cell_type": "code",
   "execution_count": 30,
   "metadata": {},
   "outputs": [
    {
     "name": "stdout",
     "output_type": "stream",
     "text": [
      "1\n",
      "{'cod': '404', 'message': 'city not found'}\n"
     ]
    }
   ],
   "source": [
    "import requests\n",
    "\n",
    "city = str(input())\n",
    "api_url = 'http://api.openweathermap.org/data/2.5/weather'\n",
    "params = {'q':city, 'units':'metric', 'appid':'a2e5c9b3a568ae0d6fdf6689bf112930'}\n",
    "res = requests.get(api_url, params=params)\n",
    "res.headers['Content-Type']\n",
    "output = res.json()\n",
    "print(output)"
   ]
  },
  {
   "cell_type": "code",
   "execution_count": 49,
   "metadata": {},
   "outputs": [
    {
     "name": "stdout",
     "output_type": "stream",
     "text": [
      "Interesting\n",
      "Interesting\n",
      "Interesting\n",
      "Interesting\n",
      "Interesting\n",
      "Interesting\n",
      "Interesting\n",
      "Interesting\n",
      "Interesting\n",
      "Interesting\n"
     ]
    }
   ],
   "source": [
    "import requests\n",
    "from pprint import pprint\n",
    "\n",
    "for i in range(1,11):\n",
    "    res = requests.get(f'http://numbersapi.com/{i}/math?json=True')\n",
    "    output = res.json()\n",
    "    \n",
    "    if output['found'] is True:\n",
    "        print('Interesting')\n",
    "    else:\n",
    "        print('Boring')"
   ]
  },
  {
   "cell_type": "code",
   "execution_count": 11,
   "metadata": {},
   "outputs": [
    {
     "name": "stdout",
     "output_type": "stream",
     "text": [
      "3\n"
     ]
    }
   ],
   "source": [
    "#количество вхождений t в s\n",
    "\n",
    "s = \"abababa\"\n",
    "t = \"aba\"\n",
    "n = 0\n",
    "for first in range(len(s) - len(t) + 1):\n",
    "    if s[first:first+len(t)] == t:\n",
    "        n += 1\n",
    "print(n)"
   ]
  },
  {
   "cell_type": "code",
   "execution_count": 12,
   "metadata": {},
   "outputs": [],
   "source": [
    "class Buffer:\n",
    "    def __init__(self):\n",
    "        self.arr = []\n",
    "\n",
    "\n",
    "    def add(self, *a):\n",
    "        self.arr.extend(a)\n",
    "        while len(self.arr) >= 5:\n",
    "            print(sum(self.arr[:5]))\n",
    "            del self.arr[0:5]\n",
    "\n",
    "    def get_current_part(self):\n",
    "        print(self.arr)\n",
    "        return self.arr"
   ]
  },
  {
   "cell_type": "code",
   "execution_count": 1,
   "metadata": {},
   "outputs": [],
   "source": [
    "def fuck(x):\n",
    "    answer = 1\n",
    "    for z in range(1, x+1):\n",
    "        answer = answer * z\n",
    "    return answer"
   ]
  },
  {
   "cell_type": "code",
   "execution_count": 2,
   "metadata": {},
   "outputs": [
    {
     "data": {
      "text/plain": [
       "120"
      ]
     },
     "execution_count": 2,
     "metadata": {},
     "output_type": "execute_result"
    }
   ],
   "source": [
    "fuck(5) #fucktorial"
   ]
  },
  {
   "cell_type": "code",
   "execution_count": 3,
   "metadata": {},
   "outputs": [],
   "source": [
    "def award(medal, *persons):\n",
    "    for person in persons:\n",
    "        print('Comrad ' + person + ' the medal ' + medal + ' is for you!')"
   ]
  },
  {
   "cell_type": "code",
   "execution_count": 4,
   "metadata": {},
   "outputs": [
    {
     "name": "stdout",
     "output_type": "stream",
     "text": [
      "Comrad Vasya the medal Za Berlin is for you!\n",
      "Comrad Petya the medal Za Berlin is for you!\n",
      "Comrad Kolya the medal Za Berlin is for you!\n"
     ]
    }
   ],
   "source": [
    "award('Za Berlin', 'Vasya', 'Petya', 'Kolya')"
   ]
  },
  {
   "cell_type": "code",
   "execution_count": 11,
   "metadata": {},
   "outputs": [],
   "source": [
    "class Hero():\n",
    "    '''Class to create Hero of our game'''\n",
    "    def __init__(self, name, level, race):\n",
    "        '''Initiate our hero'''\n",
    "        self.name = name\n",
    "        self.level = level\n",
    "        self.race = race\n",
    "        self.health = 100\n",
    "        \n",
    "    def show_hero(self):\n",
    "        '''Print all parameters of hero'''\n",
    "        description = 'Name: ' + str(self.name) + '; Level: ' + str(self.level) + '; Race: ' + str(self.race) + '; Health: ' + str(self.health)\n",
    "        print(description)\n",
    "        \n",
    "    def level_up(self):\n",
    "        self.level += 1\n",
    "        \n",
    "    def set_health(self, new_health):\n",
    "        self.health = new_health\n",
    "        \n",
    "    def move(self):\n",
    "        '''Moving of hero'''\n",
    "        print('Hero ' + self.name + ' is moving')       "
   ]
  },
  {
   "cell_type": "code",
   "execution_count": 12,
   "metadata": {},
   "outputs": [],
   "source": [
    "class SuperHero(Hero):\n",
    "    '''Class to create SuperHero'''\n",
    "    def __init__(self, name, level, race, magiclevel):\n",
    "        '''Initiate SuperHero'''\n",
    "        super().__init__(name, level, race)\n",
    "        self.magiclevel = magiclevel\n",
    "        self.__magic = 100\n",
    "        \n",
    "    def makemagic(self):\n",
    "        '''Use magic'''\n",
    "        '''Двойной слеш запрещает изменение переменной не из под класса'''\n",
    "        self.__magic -= 10\n",
    "        \n",
    "    def show_hero(self):\n",
    "        description = 'Name: '+str(self.name)+'; Level: '+str(self.level)+'; Race: '+str(self.race)+'; Health: '+str(self.health)+'; Magic: '+str(self.__magic)\n",
    "        print(description)"
   ]
  },
  {
   "cell_type": "code",
   "execution_count": 13,
   "metadata": {},
   "outputs": [],
   "source": [
    "mysuperhero1 = SuperHero('Kye', 99, 'Human', 9)"
   ]
  },
  {
   "cell_type": "code",
   "execution_count": 14,
   "metadata": {},
   "outputs": [
    {
     "name": "stdout",
     "output_type": "stream",
     "text": [
      "Name: Kye; Level: 99; Race: Human; Health: 100; Magic: 100\n"
     ]
    }
   ],
   "source": [
    "mysuperhero1.show_hero()"
   ]
  },
  {
   "cell_type": "code",
   "execution_count": 15,
   "metadata": {},
   "outputs": [],
   "source": [
    "mysuperhero1.makemagic()"
   ]
  },
  {
   "cell_type": "code",
   "execution_count": 16,
   "metadata": {},
   "outputs": [
    {
     "name": "stdout",
     "output_type": "stream",
     "text": [
      "Name: Kye; Level: 99; Race: Human; Health: 100; Magic: 90\n"
     ]
    }
   ],
   "source": [
    "mysuperhero1.show_hero()"
   ]
  },
  {
   "cell_type": "markdown",
   "metadata": {},
   "source": [
    "Работа с файлами"
   ]
  },
  {
   "cell_type": "code",
   "execution_count": 17,
   "metadata": {},
   "outputs": [],
   "source": []
  },
  {
   "cell_type": "code",
   "execution_count": 29,
   "metadata": {},
   "outputs": [
    {
     "name": "stdout",
     "output_type": "stream",
     "text": [
      "4 iloveyou\n",
      "14 lovely\n",
      "21 iloveu\n",
      "37 loveme\n",
      "51 loveyou\n",
      "67 lovers\n"
     ]
    }
   ],
   "source": [
    "inputfile = '../Datasets/rockyou.txt'\n",
    "outputfile = '../Datasets/rockyou2.txt'\n",
    "\n",
    "fileread = open(inputfile, mode='r', encoding='latin_1')\n",
    "filewrite = open(outputfile, mode='w', encoding='latin_1')\n",
    "\n",
    "coincidence = 'love'\n",
    "\n",
    "for num, x in enumerate(fileread):\n",
    "    if coincidence in x:\n",
    "        filewrite.write(x)\n",
    "        print(str(num) + ' ' + x.strip())\n",
    "        \n",
    "fileread.close()\n",
    "filewrite.close()"
   ]
  },
  {
   "cell_type": "markdown",
   "metadata": {},
   "source": [
    "Перехват ошибок"
   ]
  },
  {
   "cell_type": "code",
   "execution_count": 42,
   "metadata": {},
   "outputs": [
    {
     "name": "stdout",
     "output_type": "stream",
     "text": [
      "Inside TRY\n",
      "Inside ELSE1\n",
      "2\n",
      "3\n",
      "4\n",
      "5\n",
      "6\n",
      "7\n",
      "8\n",
      "9\n",
      "0\n",
      "Inside FINALLY\n",
      "=======EOF=======\n"
     ]
    }
   ],
   "source": [
    "filename = '../Datasets/LessonList.txt'\n",
    "\n",
    "try:\n",
    "    print('Inside TRY')\n",
    "    myfile = open(filename, mode='r', encoding='latin_1')\n",
    "except Exception:\n",
    "    print('Inside EXCEPT, error found')\n",
    "    #filename = input('Enter the correct name of file: ')\n",
    "else:\n",
    "    print('Inside ELSE' + myfile.read())\n",
    "finally:\n",
    "    print('Inside FINALLY')\n",
    "    \n",
    "print('=======EOF=======')"
   ]
  },
  {
   "cell_type": "markdown",
   "metadata": {},
   "source": [
    "JSON"
   ]
  },
  {
   "cell_type": "code",
   "execution_count": 47,
   "metadata": {},
   "outputs": [],
   "source": [
    "import json\n",
    "\n",
    "user_file_name = '../Datasets/user_settings.txt'\n",
    "user_file = open(user_file_name, mode='w', encoding='latin_1')\n",
    "\n",
    "player1 = {'PlayerName': 'Donuld Trump', \n",
    "           'Score': 345, \n",
    "           'Awards': ['OR', 'NV', 'NY']}\n",
    "\n",
    "player2 = {'PlayerName': 'Hillary Clinton', \n",
    "           'Score': 285, \n",
    "           'Awards': ['CA', 'NM', 'TX']}\n",
    "\n",
    "players = []\n",
    "players.append(player1)\n",
    "players.append(player2)\n",
    "\n",
    "json.dump(players, user_file)\n",
    "\n",
    "user_file.close()"
   ]
  },
  {
   "cell_type": "markdown",
   "metadata": {},
   "source": [
    "Регулярные выражения"
   ]
  },
  {
   "cell_type": "code",
   "execution_count": 3,
   "metadata": {},
   "outputs": [],
   "source": [
    "import re"
   ]
  },
  {
   "cell_type": "code",
   "execution_count": 21,
   "metadata": {},
   "outputs": [
    {
     "name": "stdout",
     "output_type": "stream",
     "text": [
      "['R', 'e', 'g', 'E', 'x', 'r', 'w', 'a', 's', 'c', 'r', 'e', 'a', 't', 'e', 'd', 'b', 'y', 'g', 's', 'k', 'i', 'n', 'n', 'e', 'r', 'c', 'o', 'm', 'a', 'n', 'd', 'i', 's', 'p', 'r', 'o', 'u', 'd', 'l', 'y', 'h', 'o', 's', 't', 'e', 'd', 'b', 'y', 'M', 'e', 'd', 'i', 'a', 'T', 'e', 'm', 'p', 'l', 'e', 'E', 'd', 'i', 't', 't', 'h', 'e', 'E', 'x', 'p', 'r', 'e', 's', 's', 'i', 'o', 'n', 'T', 'e', 'x', 't', 't', 'o', 's', 'e', 'e', 'm', 'a', 't', 'c', 'h', 'e', 's', 'R', 'o', 'l', 'l', 'o', 'v', 'e', 'r', 'm', 'a', 't', 'c', 'h', 'e', 's', 'o', 'r', 't', 'h', 'e', 'e', 'x', 'p', 'r', 'e', 's', 's', 'i', 'o', 'n', 'f', 'o', 'r', 'd', 'e', 't', 'a', 'i', 'l', 's', 'P', 'C', 'R', 'E', 'J', 'a', 'v', 'a', 'S', 'c', 'r', 'i', 'p', 't', 'f', 'l', 'a', 'v', 'o', 'r', 's', 'o', 'f', 'R', 'e', 'g', 'E', 'x', 'a', 'r', 'e', 's', 'u', 'p', 'p', 'o', 'r', 't', 'e', 'd', 'V', 'a', 'l', 'i', 'd', 'a', 't', 'e', 'y', 'o', 'u', 'r', 'e', 'x', 'p', 'r', 'e', 's', 's', 'i', 'o', 'n', 'w', 'i', 't', 'h', 'T', 'e', 's', 't', 's', 'm', 'o', 'd', 'e', 'T', 'h', 'e', 's', 'i', 'd', 'e', 'b', 'a', 'r', 'i', 'n', 'c', 'l', 'u', 'd', 'e', 's', 'a', 'C', 'h', 'e', 'a', 't', 's', 'h', 'e', 'e', 't', 'f', 'u', 'l', 'l', 'R', 'e', 'f', 'e', 'r', 'e', 'n', 'c', 'e', 'a', 'n', 'd', 'H', 'e', 'l', 'p', 'Y', 'o', 'u', 'c', 'a', 'n', 'a', 'l', 's', 'o', 'S', 'a', 'v', 'e', 'S', 'h', 'a', 'r', 'e', 'w', 'i', 't', 'h', 't', 'h', 'e', 'C', 'o', 'm', 'm', 'u', 'n', 'i', 't', 'y', 'a', 'n', 'd', 'v', 'i', 'e', 'w', 'p', 'a', 't', 't', 'e', 'r', 'n', 's', 'y', 'o', 'u', 'c', 'r', 'e', 'a', 't', 'e', 'o', 'r', 'f', 'a', 'v', 'o', 'r', 'i', 't', 'e', 'i', 'n', 'M', 'y', 'P', 'a', 't', 't', 'e', 'r', 'n', 's', 'E', 'x', 'p', 'l', 'o', 'r', 'e', 'r', 'e', 's', 'u', 'l', 't', 's', 'w', 'i', 't', 'h', 't', 'h', 'e', 'T', 'o', 'o', 'l', 's', 'b', 'e', 'l', 'o', 'w', 'R', 'e', 'p', 'l', 'a', 'c', 'e', 'L', 'i', 's', 't', 'o', 'u', 't', 'p', 'u', 't', 'c', 'u', 's', 't', 'o', 'm', 'r', 'e', 's', 'u', 'l', 't', 's', 'D', 'e', 't', 'a', 'i', 'l', 's', 'l', 'i', 's', 't', 's', 'c', 'a', 'p', 't', 'u', 'r', 'e', 'g', 'r', 'o', 'u', 'p', 's', 'E', 'x', 'p', 'l', 'a', 'i', 'n', 'd', 'e', 's', 'c', 'r', 'i', 'b', 'e', 's', 'y', 'o', 'u', 'r', 'e', 'x', 'p', 'r', 'e', 's', 's', 'i', 'o', 'n', 'i', 'n', 'p', 'l', 'a', 'i', 'n', 'E', 'n', 'g', 'l', 'i', 's', 'h']\n",
      "['Integer@montesnasceturridiculus.net', 'Donec@consectetuermaurisid.com', 'iaculis@non.ca', 'malesuada@Quisque.co.uk', 'augue.porttitor@Suspendisse.net', 'et@ultricesDuisvolutpat.co.uk', 'sed.facilisis.vitae@lectus.net', 'erat.in@duiaugueeu.co.uk', 'at@nonduinec.org', 'dui.quis@Cumsociis.com', 'feugiat.metus.sit@Cras.edu', 'at.libero@scelerisqueneque.org', 'Fusce.aliquet.magna@tellusfaucibusleo.org', 'lorem.tristique@miac.net', 'ante.iaculis.nec@Donecsollicitudinadipiscing.net', 'blandit@semper.com', 'lobortis.augue@elementum.com', 'nunc@anteblandit.edu', 'justo.nec.ante@necquamCurabitur.net', 'egestas.urna.justo@mifelisadipiscing.co.uk', 'purus.accumsan@arcuimperdietullamcorper.net', 'blandit@atsemmolestie.net', 'Mauris.quis.turpis@nullaIn.ca', 'urna@egetipsumDonec.edu', 'arcu@metusIn.com', 'neque@atrisusNunc.org', 'urna@interdumenimnon.com', 'conubia.nostra@id.edu', 'vulputate.mauris.sagittis@nuncnulla.org', 'tellus@auctorvelitAliquam.org', 'mollis@atortor.org', 'Suspendisse.sagittis@egestas.co.uk', 'condimentum.eget@AeneanmassaInteger.co.uk', 'elit.sed@commodohendrerit.edu', 'diam.eu.dolor@Proinmi.co.uk', 'Nullam@CrasinterdumNunc.com', 'ornare.Fusce.mollis@auguescelerisquemollis.net', 'nec.malesuada.ut@NulladignissimMaecenas.co.uk', 'ut.pharetra@auguescelerisque.ca', 'eu.nibh.vulputate@ligulaeuenim.net', 'lacinia.at.iaculis@natoque.net', 'parturient.montes@Inlorem.net', 'vitae@Nullam.org', 'pellentesque.tellus.sem@consequat.net', 'ac.orci@SednequeSed.edu', 'Proin.vel@sit.net', 'nec.mollis@dolorsit.com', 'sem@Nullamut.ca', 'Proin@Cras.edu', 'adipiscing@dapibusgravidaAliquam.ca', 'neque.tellus.imperdiet@porttitor.org', 'gravida.sagittis@velvulputate.org', 'Quisque@Quisque.com', 'commodo.ipsum.Suspendisse@sed.co.uk', 'leo.Vivamus@cursuset.ca', 'id.enim@lorem.com', 'feugiat.non.lobortis@vitae.net', 'sapien.Nunc.pulvinar@imperdiet.co.uk', 'Cras@enimnon.ca', 'augue@anteVivamusnon.edu', 'vitae.dolor@neceuismodin.edu', 'Nullam@lacusQuisqueimperdiet.co.uk', 'feugiat.non@tincidunt.co.uk', 'est.Nunc.laoreet@elitpede.net', 'in.dolor.Fusce@lobortis.net', 'mus.Aenean@tacitisociosqu.edu', 'metus.Vivamus.euismod@dictumeuplacerat.com', 'non.dapibus.rutrum@noncursus.ca', 'lectus.Cum.sociis@Donec.ca', 'vitae@elitpretiumet.com', 'urna@rutrum.ca', 'In.mi@Donectincidunt.ca', 'amet.massa@commodoipsum.ca', 'lobortis.quam.a@Vestibulum.ca', 'commodo.at.libero@Aliquamfringillacursus.co.uk', 'fermentum@velconvallis.ca', 'Vestibulum.ante@consectetuer.net', 'cursus.Integer@est.com', 'quis.diam@eget.co.uk', 'lobortis.risus@nonummyultricies.edu', 'tellus.faucibus.leo@Donecluctusaliquet.org', 'vel.faucibus.id@inceptoshymenaeos.org', 'dapibus@malesuada.co.uk', 'rutrum@sedpedeCum.ca', 'nunc.In.at@Nullam.com', 'eu.elit@vitaedolorDonec.ca', 'elementum.purus@et.edu', 'Morbi.sit.amet@magnaPraesentinterdum.edu', 'nulla.Integer.vulputate@ipsum.edu', 'sed@lobortis.com', 'velit.justo@vulputatelacusCras.ca', 'fringilla.euismod@Maecenas.net', 'semper.erat.in@lobortisrisusIn.ca', 'libero.at@sapien.edu', 'et.libero@odio.net', 'ornare@MaurismagnaDuis.com', 'tincidunt@accumsanlaoreet.net', 'tortor.Nunc.commodo@faucibus.com', 'ultrices.posuere@velvulputate.ca', 'dolor.tempus.non@dolorDonecfringilla.net']\n",
      "Wall time: 988 µs\n"
     ]
    },
    {
     "data": {
      "text/plain": [
       "100"
      ]
     },
     "execution_count": 21,
     "metadata": {},
     "output_type": "execute_result"
    }
   ],
   "source": [
    "%%time\n",
    "\n",
    "mytext = '''RegExr was created by gskinner.com, and is proudly hosted by Media Temple. \n",
    "Edit the Expression & Text to see matches. Roll over matches or the expression for details. \n",
    "PCRE & JavaScript flavors of RegEx are supported. Validate your expression with Tests mode.\n",
    "The side bar includes a Cheatsheet, full Reference, and Help. You can also Save & Share with the Community, \n",
    "and view patterns you create or favorite in My Patterns.\n",
    "Explore results with the Tools below. Replace & List output custom results. Details lists capture groups. \n",
    "Explain describes your expression in plain English.'''\n",
    "\n",
    "myemails = '''<table cellpadding=\"1\" cellspacing=\"1\"><tr>\t<th>email</th></tr><tr>\t<td>Integer@montesnasceturridiculus.net</td>\n",
    "</tr><tr>\t<td>Donec@consectetuermaurisid.com</td>\n",
    "</tr><tr>\t<td>iaculis@non.ca</td>\n",
    "</tr><tr>\t<td>malesuada@Quisque.co.uk</td>\n",
    "</tr><tr>\t<td>augue.porttitor@Suspendisse.net</td>\n",
    "</tr><tr>\t<td>et@ultricesDuisvolutpat.co.uk</td>\n",
    "</tr><tr>\t<td>sed.facilisis.vitae@lectus.net</td>\n",
    "</tr><tr>\t<td>erat.in@duiaugueeu.co.uk</td>\n",
    "</tr><tr>\t<td>at@nonduinec.org</td>\n",
    "</tr><tr>\t<td>dui.quis@Cumsociis.com</td>\n",
    "</tr><tr>\t<td>feugiat.metus.sit@Cras.edu</td>\n",
    "</tr><tr>\t<td>at.libero@scelerisqueneque.org</td>\n",
    "</tr><tr>\t<td>Fusce.aliquet.magna@tellusfaucibusleo.org</td>\n",
    "</tr><tr>\t<td>lorem.tristique@miac.net</td>\n",
    "</tr><tr>\t<td>ante.iaculis.nec@Donecsollicitudinadipiscing.net</td>\n",
    "</tr><tr>\t<td>blandit@semper.com</td>\n",
    "</tr><tr>\t<td>lobortis.augue@elementum.com</td>\n",
    "</tr><tr>\t<td>nunc@anteblandit.edu</td>\n",
    "</tr><tr>\t<td>justo.nec.ante@necquamCurabitur.net</td>\n",
    "</tr><tr>\t<td>egestas.urna.justo@mifelisadipiscing.co.uk</td>\n",
    "</tr><tr>\t<td>purus.accumsan@arcuimperdietullamcorper.net</td>\n",
    "</tr><tr>\t<td>blandit@atsemmolestie.net</td>\n",
    "</tr><tr>\t<td>Mauris.quis.turpis@nullaIn.ca</td>\n",
    "</tr><tr>\t<td>urna@egetipsumDonec.edu</td>\n",
    "</tr><tr>\t<td>arcu@metusIn.com</td>\n",
    "</tr><tr>\t<td>neque@atrisusNunc.org</td>\n",
    "</tr><tr>\t<td>urna@interdumenimnon.com</td>\n",
    "</tr><tr>\t<td>conubia.nostra@id.edu</td>\n",
    "</tr><tr>\t<td>vulputate.mauris.sagittis@nuncnulla.org</td>\n",
    "</tr><tr>\t<td>tellus@auctorvelitAliquam.org</td>\n",
    "</tr><tr>\t<td>mollis@atortor.org</td>\n",
    "</tr><tr>\t<td>Suspendisse.sagittis@egestas.co.uk</td>\n",
    "</tr><tr>\t<td>condimentum.eget@AeneanmassaInteger.co.uk</td>\n",
    "</tr><tr>\t<td>elit.sed@commodohendrerit.edu</td>\n",
    "</tr><tr>\t<td>diam.eu.dolor@Proinmi.co.uk</td>\n",
    "</tr><tr>\t<td>Nullam@CrasinterdumNunc.com</td>\n",
    "</tr><tr>\t<td>ornare.Fusce.mollis@auguescelerisquemollis.net</td>\n",
    "</tr><tr>\t<td>nec.malesuada.ut@NulladignissimMaecenas.co.uk</td>\n",
    "</tr>\n",
    "<tr>\n",
    "\t<td>ut.pharetra@auguescelerisque.ca</td>\n",
    "</tr>\n",
    "<tr>\n",
    "\t<td>eu.nibh.vulputate@ligulaeuenim.net</td>\n",
    "</tr>\n",
    "<tr>\n",
    "\t<td>lacinia.at.iaculis@natoque.net</td>\n",
    "</tr>\n",
    "<tr>\n",
    "\t<td>parturient.montes@Inlorem.net</td>\n",
    "</tr>\n",
    "<tr>\n",
    "\t<td>vitae@Nullam.org</td>\n",
    "</tr>\n",
    "<tr>\n",
    "\t<td>pellentesque.tellus.sem@consequat.net</td>\n",
    "</tr>\n",
    "<tr>\n",
    "\t<td>ac.orci@SednequeSed.edu</td>\n",
    "</tr>\n",
    "<tr>\n",
    "\t<td>Proin.vel@sit.net</td>\n",
    "</tr>\n",
    "<tr>\n",
    "\t<td>nec.mollis@dolorsit.com</td>\n",
    "</tr>\n",
    "<tr>\n",
    "\t<td>sem@Nullamut.ca</td>\n",
    "</tr>\n",
    "<tr>\n",
    "\t<td>Proin@Cras.edu</td>\n",
    "</tr>\n",
    "<tr>\n",
    "\t<td>adipiscing@dapibusgravidaAliquam.ca</td>\n",
    "</tr>\n",
    "<tr>\n",
    "\t<td>neque.tellus.imperdiet@porttitor.org</td>\n",
    "</tr>\n",
    "<tr>\n",
    "\t<td>gravida.sagittis@velvulputate.org</td>\n",
    "</tr>\n",
    "<tr>\n",
    "\t<td>Quisque@Quisque.com</td>\n",
    "</tr>\n",
    "<tr>\n",
    "\t<td>commodo.ipsum.Suspendisse@sed.co.uk</td>\n",
    "</tr>\n",
    "<tr>\n",
    "\t<td>leo.Vivamus@cursuset.ca</td>\n",
    "</tr>\n",
    "<tr>\n",
    "\t<td>id.enim@lorem.com</td>\n",
    "</tr>\n",
    "<tr>\n",
    "\t<td>feugiat.non.lobortis@vitae.net</td>\n",
    "</tr>\n",
    "<tr>\n",
    "\t<td>sapien.Nunc.pulvinar@imperdiet.co.uk</td>\n",
    "</tr>\n",
    "<tr>\n",
    "\t<td>Cras@enimnon.ca</td>\n",
    "</tr>\n",
    "<tr>\n",
    "\t<td>augue@anteVivamusnon.edu</td>\n",
    "</tr>\n",
    "<tr>\n",
    "\t<td>vitae.dolor@neceuismodin.edu</td>\n",
    "</tr>\n",
    "<tr>\n",
    "\t<td>Nullam@lacusQuisqueimperdiet.co.uk</td>\n",
    "</tr>\n",
    "<tr>\n",
    "\t<td>feugiat.non@tincidunt.co.uk</td>\n",
    "</tr>\n",
    "<tr>\n",
    "\t<td>est.Nunc.laoreet@elitpede.net</td>\n",
    "</tr>\n",
    "<tr>\n",
    "\t<td>in.dolor.Fusce@lobortis.net</td>\n",
    "</tr>\n",
    "<tr>\n",
    "\t<td>mus.Aenean@tacitisociosqu.edu</td>\n",
    "</tr>\n",
    "<tr>\n",
    "\t<td>metus.Vivamus.euismod@dictumeuplacerat.com</td>\n",
    "</tr><tr>\n",
    "\t<td>non.dapibus.rutrum@noncursus.ca</td>\n",
    "</tr>\n",
    "<tr>\t<td>lectus.Cum.sociis@Donec.ca</td>\n",
    "</tr><tr>\n",
    "\t<td>vitae@elitpretiumet.com</td>\n",
    "</tr><tr>\t<td>urna@rutrum.ca</td>\n",
    "</tr><tr>\n",
    "\t<td>In.mi@Donectincidunt.ca</td>\n",
    "</tr><tr>\n",
    "\t<td>amet.massa@commodoipsum.ca</td>\n",
    "</tr><tr>\t<td>lobortis.quam.a@Vestibulum.ca</td>\n",
    "</tr><tr>\t<td>commodo.at.libero@Aliquamfringillacursus.co.uk</td>\n",
    "</tr><tr>\t<td>fermentum@velconvallis.ca</td>\n",
    "</tr><tr>\n",
    "\t<td>Vestibulum.ante@consectetuer.net</td>\n",
    "</tr><tr>\t<td>cursus.Integer@est.com</td>\n",
    "</tr><tr>\t<td>quis.diam@eget.co.uk</td>\n",
    "</tr>\n",
    "<tr>\n",
    "\t<td>lobortis.risus@nonummyultricies.edu</td>\n",
    "</tr>\n",
    "<tr>\n",
    "\t<td>tellus.faucibus.leo@Donecluctusaliquet.org</td>\n",
    "</tr>\n",
    "<tr>\n",
    "\t<td>vel.faucibus.id@inceptoshymenaeos.org</td>\n",
    "</tr>\n",
    "<tr>\n",
    "\t<td>dapibus@malesuada.co.uk</td>\n",
    "</tr>\n",
    "<tr>\n",
    "\t<td>rutrum@sedpedeCum.ca</td>\n",
    "</tr>\n",
    "<tr>\n",
    "\t<td>nunc.In.at@Nullam.com</td>\n",
    "</tr>\n",
    "<tr>\n",
    "\t<td>eu.elit@vitaedolorDonec.ca</td>\n",
    "</tr>\n",
    "<tr>\n",
    "\t<td>elementum.purus@et.edu</td>\n",
    "</tr>\n",
    "<tr>\n",
    "\t<td>Morbi.sit.amet@magnaPraesentinterdum.edu</td>\n",
    "</tr>\n",
    "<tr>\n",
    "\t<td>nulla.Integer.vulputate@ipsum.edu</td>\n",
    "</tr>\n",
    "<tr>\n",
    "\t<td>sed@lobortis.com</td>\n",
    "</tr>\n",
    "<tr>\n",
    "\t<td>velit.justo@vulputatelacusCras.ca</td>\n",
    "</tr>\n",
    "<tr>\n",
    "\t<td>fringilla.euismod@Maecenas.net</td>\n",
    "</tr>\n",
    "<tr>\n",
    "\t<td>semper.erat.in@lobortisrisusIn.ca</td>\n",
    "</tr>\n",
    "<tr>\n",
    "\t<td>libero.at@sapien.edu</td>\n",
    "</tr>\n",
    "<tr>\n",
    "\t<td>et.libero@odio.net</td>\n",
    "</tr>\n",
    "<tr>\n",
    "\t<td>ornare@MaurismagnaDuis.com</td>\n",
    "</tr>\n",
    "<tr>\n",
    "\t<td>tincidunt@accumsanlaoreet.net</td>\n",
    "</tr>\n",
    "<tr>\n",
    "\t<td>tortor.Nunc.commodo@faucibus.com</td>\n",
    "</tr>\n",
    "<tr>\n",
    "\t<td>ultrices.posuere@velvulputate.ca</td>\n",
    "</tr>\n",
    "<tr>\n",
    "\t<td>dolor.tempus.non@dolorDonecfringilla.net</td>\n",
    "</tr>\n",
    "</table>   '''\n",
    "\n",
    "\n",
    "#\\d - any digit\n",
    "#\\D - any non-digit\n",
    "#\\w - any alphabet symbol (A-Z a-z)\n",
    "#\\W - any non alphabet symbol\n",
    "#\\s - breakspace\n",
    "#\\S - non breakspace\n",
    "#[0-9]{3} \n",
    "#[A-Z][a-z]+\n",
    "\n",
    "textlookfor = r'\\w'\n",
    "allresults = re.findall(textlookfor, mytext)\n",
    "print(allresults)\n",
    "\n",
    "\n",
    "emaillookfor = r'[\\w._-]+@[\\w._-]+\\.[\\w.]+'\n",
    "emailresults = re.findall(emaillookfor, myemails)\n",
    "print(emailresults)\n",
    "len(emailresults)"
   ]
  },
  {
   "cell_type": "code",
   "execution_count": 28,
   "metadata": {},
   "outputs": [
    {
     "ename": "OperationalError",
     "evalue": "could not connect to server: Connection refused (0x0000274D/10061)\n\tIs the server running on host \"localhost\" (::1) and accepting\n\tTCP/IP connections on port 5431?\ncould not connect to server: Connection refused (0x0000274D/10061)\n\tIs the server running on host \"localhost\" (127.0.0.1) and accepting\n\tTCP/IP connections on port 5431?\n",
     "output_type": "error",
     "traceback": [
      "\u001b[1;31m---------------------------------------------------------------------------\u001b[0m",
      "\u001b[1;31mOperationalError\u001b[0m                          Traceback (most recent call last)",
      "\u001b[1;32m<ipython-input-28-2a0eac0dea30>\u001b[0m in \u001b[0;36m<module>\u001b[1;34m\u001b[0m\n\u001b[0;32m      3\u001b[0m \u001b[1;32mimport\u001b[0m \u001b[0mpsycopg2\u001b[0m\u001b[1;33m\u001b[0m\u001b[1;33m\u001b[0m\u001b[0m\n\u001b[0;32m      4\u001b[0m \u001b[1;33m\u001b[0m\u001b[0m\n\u001b[1;32m----> 5\u001b[1;33m con = psycopg2.connect(\n\u001b[0m\u001b[0;32m      6\u001b[0m             \u001b[0mhost\u001b[0m \u001b[1;33m=\u001b[0m \u001b[1;34m'localhost'\u001b[0m\u001b[1;33m,\u001b[0m\u001b[1;33m\u001b[0m\u001b[1;33m\u001b[0m\u001b[0m\n\u001b[0;32m      7\u001b[0m             \u001b[0mdatabase\u001b[0m \u001b[1;33m=\u001b[0m \u001b[1;34m'postgres'\u001b[0m\u001b[1;33m,\u001b[0m\u001b[1;33m\u001b[0m\u001b[1;33m\u001b[0m\u001b[0m\n",
      "\u001b[1;32m~\\anaconda3\\lib\\site-packages\\psycopg2\\__init__.py\u001b[0m in \u001b[0;36mconnect\u001b[1;34m(dsn, connection_factory, cursor_factory, **kwargs)\u001b[0m\n\u001b[0;32m    125\u001b[0m \u001b[1;33m\u001b[0m\u001b[0m\n\u001b[0;32m    126\u001b[0m     \u001b[0mdsn\u001b[0m \u001b[1;33m=\u001b[0m \u001b[0m_ext\u001b[0m\u001b[1;33m.\u001b[0m\u001b[0mmake_dsn\u001b[0m\u001b[1;33m(\u001b[0m\u001b[0mdsn\u001b[0m\u001b[1;33m,\u001b[0m \u001b[1;33m**\u001b[0m\u001b[0mkwargs\u001b[0m\u001b[1;33m)\u001b[0m\u001b[1;33m\u001b[0m\u001b[1;33m\u001b[0m\u001b[0m\n\u001b[1;32m--> 127\u001b[1;33m     \u001b[0mconn\u001b[0m \u001b[1;33m=\u001b[0m \u001b[0m_connect\u001b[0m\u001b[1;33m(\u001b[0m\u001b[0mdsn\u001b[0m\u001b[1;33m,\u001b[0m \u001b[0mconnection_factory\u001b[0m\u001b[1;33m=\u001b[0m\u001b[0mconnection_factory\u001b[0m\u001b[1;33m,\u001b[0m \u001b[1;33m**\u001b[0m\u001b[0mkwasync\u001b[0m\u001b[1;33m)\u001b[0m\u001b[1;33m\u001b[0m\u001b[1;33m\u001b[0m\u001b[0m\n\u001b[0m\u001b[0;32m    128\u001b[0m     \u001b[1;32mif\u001b[0m \u001b[0mcursor_factory\u001b[0m \u001b[1;32mis\u001b[0m \u001b[1;32mnot\u001b[0m \u001b[1;32mNone\u001b[0m\u001b[1;33m:\u001b[0m\u001b[1;33m\u001b[0m\u001b[1;33m\u001b[0m\u001b[0m\n\u001b[0;32m    129\u001b[0m         \u001b[0mconn\u001b[0m\u001b[1;33m.\u001b[0m\u001b[0mcursor_factory\u001b[0m \u001b[1;33m=\u001b[0m \u001b[0mcursor_factory\u001b[0m\u001b[1;33m\u001b[0m\u001b[1;33m\u001b[0m\u001b[0m\n",
      "\u001b[1;31mOperationalError\u001b[0m: could not connect to server: Connection refused (0x0000274D/10061)\n\tIs the server running on host \"localhost\" (::1) and accepting\n\tTCP/IP connections on port 5431?\ncould not connect to server: Connection refused (0x0000274D/10061)\n\tIs the server running on host \"localhost\" (127.0.0.1) and accepting\n\tTCP/IP connections on port 5431?\n"
     ]
    }
   ],
   "source": [
    "#Example connecting to database\n",
    "\n",
    "import psycopg2\n",
    "\n",
    "con = psycopg2.connect(\n",
    "            host = 'localhost',\n",
    "            database = 'postgres',\n",
    "            user = 'postgres',\n",
    "            port = 5431,\n",
    "            password = 'r3uy280299h')\n",
    "\n",
    "#cursor\n",
    "cur = con.cursor()\n",
    "\n",
    "#execute query\n",
    "cur.execute('select * from band')\n",
    "\n",
    "rows = cur.fetchall()\n",
    "\n",
    "for r in rows:\n",
    "    print(f'{r[0]} {r[1]}')\n",
    "\n",
    "#close the cursor\n",
    "cur.close()\n",
    "\n",
    "#close the connection\n",
    "con.close()"
   ]
  },
  {
   "cell_type": "markdown",
   "metadata": {},
   "source": [
    "Рекурсия"
   ]
  },
  {
   "cell_type": "code",
   "execution_count": 32,
   "metadata": {},
   "outputs": [],
   "source": [
    "def helloworld():\n",
    "    print('helloworld')\n",
    "    helloworld()"
   ]
  },
  {
   "cell_type": "code",
   "execution_count": 33,
   "metadata": {},
   "outputs": [],
   "source": [
    "def helloworld(x):\n",
    "    if x==0:\n",
    "        return\n",
    "    else:\n",
    "        print('Hello world')\n",
    "        helloworld(x-1)"
   ]
  },
  {
   "cell_type": "code",
   "execution_count": 35,
   "metadata": {},
   "outputs": [],
   "source": [
    "helloworld(0)"
   ]
  },
  {
   "cell_type": "code",
   "execution_count": 40,
   "metadata": {},
   "outputs": [],
   "source": [
    "def sum_of(x):\n",
    "    if x==0:\n",
    "        return 0\n",
    "    else:\n",
    "        return x+sum_of(x-1)        "
   ]
  },
  {
   "cell_type": "code",
   "execution_count": 44,
   "metadata": {},
   "outputs": [
    {
     "data": {
      "text/plain": [
       "15"
      ]
     },
     "execution_count": 44,
     "metadata": {},
     "output_type": "execute_result"
    }
   ],
   "source": [
    "sum_of(5)"
   ]
  },
  {
   "cell_type": "code",
   "execution_count": 47,
   "metadata": {},
   "outputs": [],
   "source": [
    "def fuck_of(x):\n",
    "    if x==0:\n",
    "        return 1\n",
    "    else:\n",
    "        return x*fuck_of(x-1)"
   ]
  },
  {
   "cell_type": "code",
   "execution_count": 48,
   "metadata": {},
   "outputs": [
    {
     "data": {
      "text/plain": [
       "120"
      ]
     },
     "execution_count": 48,
     "metadata": {},
     "output_type": "execute_result"
    }
   ],
   "source": [
    "fuck_of(5)"
   ]
  },
  {
   "cell_type": "code",
   "execution_count": 50,
   "metadata": {},
   "outputs": [],
   "source": [
    "def fibo(x):\n",
    "    if x==0:\n",
    "        return 0\n",
    "    elif x==1:\n",
    "        return 1\n",
    "    else:\n",
    "        return fibo(x-1)+fibo(x-2)        "
   ]
  },
  {
   "cell_type": "code",
   "execution_count": 53,
   "metadata": {},
   "outputs": [
    {
     "data": {
      "text/plain": [
       "377"
      ]
     },
     "execution_count": 53,
     "metadata": {},
     "output_type": "execute_result"
    }
   ],
   "source": [
    "fibo(14)"
   ]
  },
  {
   "cell_type": "markdown",
   "metadata": {},
   "source": [
    "Бинарный поиск"
   ]
  },
  {
   "cell_type": "code",
   "execution_count": 54,
   "metadata": {},
   "outputs": [],
   "source": [
    "array_for_searching = [10,12,15,18,22,34,45,56,67,78,99]\n",
    "\n",
    "def binarysearch(searching_list, s_item, start, stop):\n",
    "    if start>stop:\n",
    "        return False\n",
    "    else:\n",
    "        middle = (start+stop)//2\n",
    "        if s_item == searching_list[middle]:\n",
    "            return middle\n",
    "        elif s_item<searching_list[middle]:\n",
    "            return binarysearch(searching_list, s_item, start, middle-1)\n",
    "        else:\n",
    "            return binarysearch(searching_list, s_item, middle+1, stop)"
   ]
  },
  {
   "cell_type": "code",
   "execution_count": 55,
   "metadata": {},
   "outputs": [
    {
     "data": {
      "text/plain": [
       "3"
      ]
     },
     "execution_count": 55,
     "metadata": {},
     "output_type": "execute_result"
    }
   ],
   "source": [
    "binarysearch(array_for_searching, 18, 1, 11)"
   ]
  },
  {
   "cell_type": "code",
   "execution_count": null,
   "metadata": {},
   "outputs": [],
   "source": []
  }
 ],
 "metadata": {
  "kernelspec": {
   "display_name": "Python 3",
   "language": "python",
   "name": "python3"
  },
  "language_info": {
   "codemirror_mode": {
    "name": "ipython",
    "version": 3
   },
   "file_extension": ".py",
   "mimetype": "text/x-python",
   "name": "python",
   "nbconvert_exporter": "python",
   "pygments_lexer": "ipython3",
   "version": "3.8.3"
  }
 },
 "nbformat": 4,
 "nbformat_minor": 4
}
