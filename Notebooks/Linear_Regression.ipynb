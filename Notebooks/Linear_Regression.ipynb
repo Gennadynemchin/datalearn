{
 "cells": [
  {
   "cell_type": "code",
   "execution_count": 1,
   "metadata": {
    "id": "RCvSiZtTALAL"
   },
   "outputs": [],
   "source": [
    "import pandas as pd\n",
    "import numpy as np\n",
    "from matplotlib import pyplot as plt"
   ]
  },
  {
   "cell_type": "code",
   "execution_count": 2,
   "metadata": {
    "colab": {
     "base_uri": "https://localhost:8080/",
     "height": 206
    },
    "id": "axck_UieARUy",
    "outputId": "bf9088d7-d9f9-46cf-c6ee-ccf3222f7b96"
   },
   "outputs": [
    {
     "data": {
      "text/html": [
       "<div>\n",
       "<style scoped>\n",
       "    .dataframe tbody tr th:only-of-type {\n",
       "        vertical-align: middle;\n",
       "    }\n",
       "\n",
       "    .dataframe tbody tr th {\n",
       "        vertical-align: top;\n",
       "    }\n",
       "\n",
       "    .dataframe thead th {\n",
       "        text-align: right;\n",
       "    }\n",
       "</style>\n",
       "<table border=\"1\" class=\"dataframe\">\n",
       "  <thead>\n",
       "    <tr style=\"text-align: right;\">\n",
       "      <th></th>\n",
       "      <th>x</th>\n",
       "      <th>y</th>\n",
       "    </tr>\n",
       "  </thead>\n",
       "  <tbody>\n",
       "    <tr>\n",
       "      <th>0</th>\n",
       "      <td>1.38</td>\n",
       "      <td>2.45</td>\n",
       "    </tr>\n",
       "    <tr>\n",
       "      <th>1</th>\n",
       "      <td>6.93</td>\n",
       "      <td>3.73</td>\n",
       "    </tr>\n",
       "    <tr>\n",
       "      <th>2</th>\n",
       "      <td>7.70</td>\n",
       "      <td>9.74</td>\n",
       "    </tr>\n",
       "    <tr>\n",
       "      <th>3</th>\n",
       "      <td>11.50</td>\n",
       "      <td>6.34</td>\n",
       "    </tr>\n",
       "    <tr>\n",
       "      <th>4</th>\n",
       "      <td>12.88</td>\n",
       "      <td>10.46</td>\n",
       "    </tr>\n",
       "  </tbody>\n",
       "</table>\n",
       "</div>"
      ],
      "text/plain": [
       "       x      y\n",
       "0   1.38   2.45\n",
       "1   6.93   3.73\n",
       "2   7.70   9.74\n",
       "3  11.50   6.34\n",
       "4  12.88  10.46"
      ]
     },
     "execution_count": 2,
     "metadata": {},
     "output_type": "execute_result"
    }
   ],
   "source": [
    "df = pd.DataFrame({'x':(1.38, 6.93, 7.7, 11.5, 12.88), 'y':(2.45, 3.73, 9.74, 6.34, 10.46)})\n",
    "df"
   ]
  },
  {
   "cell_type": "code",
   "execution_count": 3,
   "metadata": {
    "id": "cwR15VUNBcwr"
   },
   "outputs": [],
   "source": [
    "m,b = 0.9,1"
   ]
  },
  {
   "cell_type": "code",
   "execution_count": 4,
   "metadata": {
    "colab": {
     "base_uri": "https://localhost:8080/",
     "height": 206
    },
    "id": "O8zqlH1XBrhQ",
    "outputId": "8ce59c51-84f2-4d60-c95e-f56036256663"
   },
   "outputs": [
    {
     "data": {
      "text/html": [
       "<div>\n",
       "<style scoped>\n",
       "    .dataframe tbody tr th:only-of-type {\n",
       "        vertical-align: middle;\n",
       "    }\n",
       "\n",
       "    .dataframe tbody tr th {\n",
       "        vertical-align: top;\n",
       "    }\n",
       "\n",
       "    .dataframe thead th {\n",
       "        text-align: right;\n",
       "    }\n",
       "</style>\n",
       "<table border=\"1\" class=\"dataframe\">\n",
       "  <thead>\n",
       "    <tr style=\"text-align: right;\">\n",
       "      <th></th>\n",
       "      <th>x</th>\n",
       "      <th>y</th>\n",
       "      <th>y_pred</th>\n",
       "    </tr>\n",
       "  </thead>\n",
       "  <tbody>\n",
       "    <tr>\n",
       "      <th>0</th>\n",
       "      <td>1.38</td>\n",
       "      <td>2.45</td>\n",
       "      <td>2.242</td>\n",
       "    </tr>\n",
       "    <tr>\n",
       "      <th>1</th>\n",
       "      <td>6.93</td>\n",
       "      <td>3.73</td>\n",
       "      <td>7.237</td>\n",
       "    </tr>\n",
       "    <tr>\n",
       "      <th>2</th>\n",
       "      <td>7.70</td>\n",
       "      <td>9.74</td>\n",
       "      <td>7.930</td>\n",
       "    </tr>\n",
       "    <tr>\n",
       "      <th>3</th>\n",
       "      <td>11.50</td>\n",
       "      <td>6.34</td>\n",
       "      <td>11.350</td>\n",
       "    </tr>\n",
       "    <tr>\n",
       "      <th>4</th>\n",
       "      <td>12.88</td>\n",
       "      <td>10.46</td>\n",
       "      <td>12.592</td>\n",
       "    </tr>\n",
       "  </tbody>\n",
       "</table>\n",
       "</div>"
      ],
      "text/plain": [
       "       x      y  y_pred\n",
       "0   1.38   2.45   2.242\n",
       "1   6.93   3.73   7.237\n",
       "2   7.70   9.74   7.930\n",
       "3  11.50   6.34  11.350\n",
       "4  12.88  10.46  12.592"
      ]
     },
     "execution_count": 4,
     "metadata": {},
     "output_type": "execute_result"
    }
   ],
   "source": [
    "df['y_pred'] = m * df['x'] + b\n",
    "df"
   ]
  },
  {
   "cell_type": "code",
   "execution_count": 5,
   "metadata": {
    "colab": {
     "base_uri": "https://localhost:8080/",
     "height": 283
    },
    "id": "c1Onpt_JCDBi",
    "outputId": "b8fb1982-7e26-4ac6-9208-e5825630a5a8"
   },
   "outputs": [
    {
     "data": {
      "text/plain": [
       "[<matplotlib.lines.Line2D at 0x2d84fb3c760>]"
      ]
     },
     "execution_count": 5,
     "metadata": {},
     "output_type": "execute_result"
    },
    {
     "data": {
      "image/png": "[encoded data removed]",
      "text/plain": [
       "<Figure size 432x288 with 1 Axes>"
      ]
     },
     "metadata": {
      "needs_background": "light"
     },
     "output_type": "display_data"
    }
   ],
   "source": [
    "plt.scatter(df['x'], df['y'])\n",
    "plt.plot(df['x'], df['y_pred'])"
   ]
  },
  {
   "cell_type": "code",
   "execution_count": 6,
   "metadata": {
    "colab": {
     "base_uri": "https://localhost:8080/",
     "height": 206
    },
    "id": "Dp0do0z8C7sA",
    "outputId": "1b5c2bcb-f15b-4a01-8115-b72fb882ed8d"
   },
   "outputs": [
    {
     "data": {
      "text/html": [
       "<div>\n",
       "<style scoped>\n",
       "    .dataframe tbody tr th:only-of-type {\n",
       "        vertical-align: middle;\n",
       "    }\n",
       "\n",
       "    .dataframe tbody tr th {\n",
       "        vertical-align: top;\n",
       "    }\n",
       "\n",
       "    .dataframe thead th {\n",
       "        text-align: right;\n",
       "    }\n",
       "</style>\n",
       "<table border=\"1\" class=\"dataframe\">\n",
       "  <thead>\n",
       "    <tr style=\"text-align: right;\">\n",
       "      <th></th>\n",
       "      <th>x</th>\n",
       "      <th>y</th>\n",
       "      <th>y_pred</th>\n",
       "      <th>squared_error</th>\n",
       "    </tr>\n",
       "  </thead>\n",
       "  <tbody>\n",
       "    <tr>\n",
       "      <th>0</th>\n",
       "      <td>1.38</td>\n",
       "      <td>2.45</td>\n",
       "      <td>2.242</td>\n",
       "      <td>0.043264</td>\n",
       "    </tr>\n",
       "    <tr>\n",
       "      <th>1</th>\n",
       "      <td>6.93</td>\n",
       "      <td>3.73</td>\n",
       "      <td>7.237</td>\n",
       "      <td>12.299049</td>\n",
       "    </tr>\n",
       "    <tr>\n",
       "      <th>2</th>\n",
       "      <td>7.70</td>\n",
       "      <td>9.74</td>\n",
       "      <td>7.930</td>\n",
       "      <td>3.276100</td>\n",
       "    </tr>\n",
       "    <tr>\n",
       "      <th>3</th>\n",
       "      <td>11.50</td>\n",
       "      <td>6.34</td>\n",
       "      <td>11.350</td>\n",
       "      <td>25.100100</td>\n",
       "    </tr>\n",
       "    <tr>\n",
       "      <th>4</th>\n",
       "      <td>12.88</td>\n",
       "      <td>10.46</td>\n",
       "      <td>12.592</td>\n",
       "      <td>4.545424</td>\n",
       "    </tr>\n",
       "  </tbody>\n",
       "</table>\n",
       "</div>"
      ],
      "text/plain": [
       "       x      y  y_pred  squared_error\n",
       "0   1.38   2.45   2.242       0.043264\n",
       "1   6.93   3.73   7.237      12.299049\n",
       "2   7.70   9.74   7.930       3.276100\n",
       "3  11.50   6.34  11.350      25.100100\n",
       "4  12.88  10.46  12.592       4.545424"
      ]
     },
     "execution_count": 6,
     "metadata": {},
     "output_type": "execute_result"
    }
   ],
   "source": [
    "df['squared_error'] = (df['y'] - df['y_pred'])**2\n",
    "df"
   ]
  },
  {
   "cell_type": "code",
   "execution_count": 7,
   "metadata": {
    "colab": {
     "base_uri": "https://localhost:8080/"
    },
    "id": "P3fDy_ogDoy1",
    "outputId": "98a53389-1335-4aa3-cd42-dbf077885dfa"
   },
   "outputs": [
    {
     "data": {
      "text/plain": [
       "9.0527874"
      ]
     },
     "execution_count": 7,
     "metadata": {},
     "output_type": "execute_result"
    }
   ],
   "source": [
    "df['squared_error'].mean()"
   ]
  },
  {
   "cell_type": "code",
   "execution_count": 8,
   "metadata": {
    "colab": {
     "base_uri": "https://localhost:8080/",
     "height": 206
    },
    "id": "FHGSX31NEPte",
    "outputId": "1c9be2e9-37be-4593-b26c-16f499d26990"
   },
   "outputs": [
    {
     "data": {
      "text/html": [
       "<div>\n",
       "<style scoped>\n",
       "    .dataframe tbody tr th:only-of-type {\n",
       "        vertical-align: middle;\n",
       "    }\n",
       "\n",
       "    .dataframe tbody tr th {\n",
       "        vertical-align: top;\n",
       "    }\n",
       "\n",
       "    .dataframe thead th {\n",
       "        text-align: right;\n",
       "    }\n",
       "</style>\n",
       "<table border=\"1\" class=\"dataframe\">\n",
       "  <thead>\n",
       "    <tr style=\"text-align: right;\">\n",
       "      <th></th>\n",
       "      <th>x</th>\n",
       "      <th>y</th>\n",
       "      <th>y_pred</th>\n",
       "      <th>squared_error</th>\n",
       "      <th>m_derivative</th>\n",
       "    </tr>\n",
       "  </thead>\n",
       "  <tbody>\n",
       "    <tr>\n",
       "      <th>0</th>\n",
       "      <td>1.38</td>\n",
       "      <td>2.45</td>\n",
       "      <td>2.242</td>\n",
       "      <td>0.043264</td>\n",
       "      <td>0.57408</td>\n",
       "    </tr>\n",
       "    <tr>\n",
       "      <th>1</th>\n",
       "      <td>6.93</td>\n",
       "      <td>3.73</td>\n",
       "      <td>7.237</td>\n",
       "      <td>12.299049</td>\n",
       "      <td>-48.60702</td>\n",
       "    </tr>\n",
       "    <tr>\n",
       "      <th>2</th>\n",
       "      <td>7.70</td>\n",
       "      <td>9.74</td>\n",
       "      <td>7.930</td>\n",
       "      <td>3.276100</td>\n",
       "      <td>27.87400</td>\n",
       "    </tr>\n",
       "    <tr>\n",
       "      <th>3</th>\n",
       "      <td>11.50</td>\n",
       "      <td>6.34</td>\n",
       "      <td>11.350</td>\n",
       "      <td>25.100100</td>\n",
       "      <td>-115.23000</td>\n",
       "    </tr>\n",
       "    <tr>\n",
       "      <th>4</th>\n",
       "      <td>12.88</td>\n",
       "      <td>10.46</td>\n",
       "      <td>12.592</td>\n",
       "      <td>4.545424</td>\n",
       "      <td>-54.92032</td>\n",
       "    </tr>\n",
       "  </tbody>\n",
       "</table>\n",
       "</div>"
      ],
      "text/plain": [
       "       x      y  y_pred  squared_error  m_derivative\n",
       "0   1.38   2.45   2.242       0.043264       0.57408\n",
       "1   6.93   3.73   7.237      12.299049     -48.60702\n",
       "2   7.70   9.74   7.930       3.276100      27.87400\n",
       "3  11.50   6.34  11.350      25.100100    -115.23000\n",
       "4  12.88  10.46  12.592       4.545424     -54.92032"
      ]
     },
     "execution_count": 8,
     "metadata": {},
     "output_type": "execute_result"
    }
   ],
   "source": [
    "df['m_derivative'] = -(-2*df['x']*(-b-m*df['x']+df['y']))\n",
    "df"
   ]
  },
  {
   "cell_type": "code",
   "execution_count": 9,
   "metadata": {
    "colab": {
     "base_uri": "https://localhost:8080/",
     "height": 206
    },
    "id": "gOBoYuq9EQZ5",
    "outputId": "6a617a18-2d2c-4195-9b2e-2bbd9d0c9d40"
   },
   "outputs": [
    {
     "data": {
      "text/html": [
       "<div>\n",
       "<style scoped>\n",
       "    .dataframe tbody tr th:only-of-type {\n",
       "        vertical-align: middle;\n",
       "    }\n",
       "\n",
       "    .dataframe tbody tr th {\n",
       "        vertical-align: top;\n",
       "    }\n",
       "\n",
       "    .dataframe thead th {\n",
       "        text-align: right;\n",
       "    }\n",
       "</style>\n",
       "<table border=\"1\" class=\"dataframe\">\n",
       "  <thead>\n",
       "    <tr style=\"text-align: right;\">\n",
       "      <th></th>\n",
       "      <th>x</th>\n",
       "      <th>y</th>\n",
       "      <th>y_pred</th>\n",
       "      <th>squared_error</th>\n",
       "      <th>m_derivative</th>\n",
       "      <th>b_derivative</th>\n",
       "    </tr>\n",
       "  </thead>\n",
       "  <tbody>\n",
       "    <tr>\n",
       "      <th>0</th>\n",
       "      <td>1.38</td>\n",
       "      <td>2.45</td>\n",
       "      <td>2.242</td>\n",
       "      <td>0.043264</td>\n",
       "      <td>0.57408</td>\n",
       "      <td>0.416</td>\n",
       "    </tr>\n",
       "    <tr>\n",
       "      <th>1</th>\n",
       "      <td>6.93</td>\n",
       "      <td>3.73</td>\n",
       "      <td>7.237</td>\n",
       "      <td>12.299049</td>\n",
       "      <td>-48.60702</td>\n",
       "      <td>-7.014</td>\n",
       "    </tr>\n",
       "    <tr>\n",
       "      <th>2</th>\n",
       "      <td>7.70</td>\n",
       "      <td>9.74</td>\n",
       "      <td>7.930</td>\n",
       "      <td>3.276100</td>\n",
       "      <td>27.87400</td>\n",
       "      <td>3.620</td>\n",
       "    </tr>\n",
       "    <tr>\n",
       "      <th>3</th>\n",
       "      <td>11.50</td>\n",
       "      <td>6.34</td>\n",
       "      <td>11.350</td>\n",
       "      <td>25.100100</td>\n",
       "      <td>-115.23000</td>\n",
       "      <td>-10.020</td>\n",
       "    </tr>\n",
       "    <tr>\n",
       "      <th>4</th>\n",
       "      <td>12.88</td>\n",
       "      <td>10.46</td>\n",
       "      <td>12.592</td>\n",
       "      <td>4.545424</td>\n",
       "      <td>-54.92032</td>\n",
       "      <td>-4.264</td>\n",
       "    </tr>\n",
       "  </tbody>\n",
       "</table>\n",
       "</div>"
      ],
      "text/plain": [
       "       x      y  y_pred  squared_error  m_derivative  b_derivative\n",
       "0   1.38   2.45   2.242       0.043264       0.57408         0.416\n",
       "1   6.93   3.73   7.237      12.299049     -48.60702        -7.014\n",
       "2   7.70   9.74   7.930       3.276100      27.87400         3.620\n",
       "3  11.50   6.34  11.350      25.100100    -115.23000       -10.020\n",
       "4  12.88  10.46  12.592       4.545424     -54.92032        -4.264"
      ]
     },
     "execution_count": 9,
     "metadata": {},
     "output_type": "execute_result"
    }
   ],
   "source": [
    "df['b_derivative'] = -(-2*(-m*df['x']+df['y']-b))\n",
    "df"
   ]
  },
  {
   "cell_type": "code",
   "execution_count": 10,
   "metadata": {
    "colab": {
     "base_uri": "https://localhost:8080/"
    },
    "id": "jTwtRAZWEQqf",
    "outputId": "71996641-dd2e-4362-db55-64902fc6bc1a"
   },
   "outputs": [
    {
     "data": {
      "text/plain": [
       "-38.061852"
      ]
     },
     "execution_count": 10,
     "metadata": {},
     "output_type": "execute_result"
    }
   ],
   "source": [
    "df['m_derivative'].mean()"
   ]
  },
  {
   "cell_type": "code",
   "execution_count": 11,
   "metadata": {
    "colab": {
     "base_uri": "https://localhost:8080/"
    },
    "id": "XUe8JPC4vYKX",
    "outputId": "39799fca-1d17-4cf4-8efb-428a9d4ef3bf"
   },
   "outputs": [
    {
     "data": {
      "text/plain": [
       "-3.4524"
      ]
     },
     "execution_count": 11,
     "metadata": {},
     "output_type": "execute_result"
    }
   ],
   "source": [
    "df['b_derivative'].mean()"
   ]
  },
  {
   "cell_type": "code",
   "execution_count": 12,
   "metadata": {
    "id": "m5bPJ-P2vafm"
   },
   "outputs": [],
   "source": [
    "learning_rate = 0.001"
   ]
  },
  {
   "cell_type": "code",
   "execution_count": 13,
   "metadata": {
    "id": "BTe_S16Dvj7h"
   },
   "outputs": [],
   "source": [
    "m = m + learning_rate * df['m_derivative'].mean()\n",
    "b = b + learning_rate * df['b_derivative'].mean()"
   ]
  },
  {
   "cell_type": "code",
   "execution_count": 14,
   "metadata": {
    "colab": {
     "base_uri": "https://localhost:8080/"
    },
    "id": "xykeeovIwBSa",
    "outputId": "ad89762f-5e94-4c05-d6ad-3a7d3e96e8a5"
   },
   "outputs": [
    {
     "data": {
      "text/plain": [
       "(0.861938148, 0.9965476)"
      ]
     },
     "execution_count": 14,
     "metadata": {},
     "output_type": "execute_result"
    }
   ],
   "source": [
    "m,b"
   ]
  },
  {
   "cell_type": "code",
   "execution_count": 15,
   "metadata": {
    "id": "zQGb_rEAwCtM"
   },
   "outputs": [],
   "source": [
    "df['y_pred'] = m * df['x'] + b"
   ]
  },
  {
   "cell_type": "code",
   "execution_count": 16,
   "metadata": {
    "colab": {
     "base_uri": "https://localhost:8080/",
     "height": 283
    },
    "id": "Z1y39HgxwJgy",
    "outputId": "e701ef2a-f608-4709-8ada-d9aff3249935"
   },
   "outputs": [
    {
     "data": {
      "text/plain": [
       "[<matplotlib.lines.Line2D at 0x2d84fc03220>]"
      ]
     },
     "execution_count": 16,
     "metadata": {},
     "output_type": "execute_result"
    },
    {
     "data": {
      "image/png": "[encoded data removed]",
      "text/plain": [
       "<Figure size 432x288 with 1 Axes>"
      ]
     },
     "metadata": {
      "needs_background": "light"
     },
     "output_type": "display_data"
    }
   ],
   "source": [
    "plt.scatter(df['x'], df['y'])\n",
    "plt.plot(df['x'], df['y_pred'])"
   ]
  },
  {
   "cell_type": "code",
   "execution_count": 17,
   "metadata": {
    "id": "ZPxbqxScwKFD"
   },
   "outputs": [],
   "source": [
    "df['squared_error'] = (df['y'] - df['y_pred'])**2"
   ]
  },
  {
   "cell_type": "code",
   "execution_count": 18,
   "metadata": {
    "colab": {
     "base_uri": "https://localhost:8080/"
    },
    "id": "S_tKXf27KlkR",
    "outputId": "5e3e1435-07a9-4c66-a25b-3118f7678eab"
   },
   "outputs": [
    {
     "data": {
      "text/plain": [
       "7.712328581973784"
      ]
     },
     "execution_count": 18,
     "metadata": {},
     "output_type": "execute_result"
    }
   ],
   "source": [
    "df['squared_error'].mean()"
   ]
  },
  {
   "cell_type": "code",
   "execution_count": 19,
   "metadata": {
    "colab": {
     "base_uri": "https://localhost:8080/",
     "height": 206
    },
    "id": "ToWzY-z6Lr0j",
    "outputId": "995782a2-cd4d-4634-f303-e8a5029b0b6e"
   },
   "outputs": [
    {
     "data": {
      "text/html": [
       "<div>\n",
       "<style scoped>\n",
       "    .dataframe tbody tr th:only-of-type {\n",
       "        vertical-align: middle;\n",
       "    }\n",
       "\n",
       "    .dataframe tbody tr th {\n",
       "        vertical-align: top;\n",
       "    }\n",
       "\n",
       "    .dataframe thead th {\n",
       "        text-align: right;\n",
       "    }\n",
       "</style>\n",
       "<table border=\"1\" class=\"dataframe\">\n",
       "  <thead>\n",
       "    <tr style=\"text-align: right;\">\n",
       "      <th></th>\n",
       "      <th>x</th>\n",
       "      <th>y</th>\n",
       "      <th>y_pred</th>\n",
       "      <th>squared_error</th>\n",
       "      <th>m_derivative</th>\n",
       "      <th>b_derivative</th>\n",
       "    </tr>\n",
       "  </thead>\n",
       "  <tbody>\n",
       "    <tr>\n",
       "      <th>0</th>\n",
       "      <td>1.38</td>\n",
       "      <td>2.45</td>\n",
       "      <td>2.186022</td>\n",
       "      <td>0.069684</td>\n",
       "      <td>0.57408</td>\n",
       "      <td>0.416</td>\n",
       "    </tr>\n",
       "    <tr>\n",
       "      <th>1</th>\n",
       "      <td>6.93</td>\n",
       "      <td>3.73</td>\n",
       "      <td>6.969779</td>\n",
       "      <td>10.496168</td>\n",
       "      <td>-48.60702</td>\n",
       "      <td>-7.014</td>\n",
       "    </tr>\n",
       "    <tr>\n",
       "      <th>2</th>\n",
       "      <td>7.70</td>\n",
       "      <td>9.74</td>\n",
       "      <td>7.633471</td>\n",
       "      <td>4.437463</td>\n",
       "      <td>27.87400</td>\n",
       "      <td>3.620</td>\n",
       "    </tr>\n",
       "    <tr>\n",
       "      <th>3</th>\n",
       "      <td>11.50</td>\n",
       "      <td>6.34</td>\n",
       "      <td>10.908836</td>\n",
       "      <td>20.874265</td>\n",
       "      <td>-115.23000</td>\n",
       "      <td>-10.020</td>\n",
       "    </tr>\n",
       "    <tr>\n",
       "      <th>4</th>\n",
       "      <td>12.88</td>\n",
       "      <td>10.46</td>\n",
       "      <td>12.098311</td>\n",
       "      <td>2.684063</td>\n",
       "      <td>-54.92032</td>\n",
       "      <td>-4.264</td>\n",
       "    </tr>\n",
       "  </tbody>\n",
       "</table>\n",
       "</div>"
      ],
      "text/plain": [
       "       x      y     y_pred  squared_error  m_derivative  b_derivative\n",
       "0   1.38   2.45   2.186022       0.069684       0.57408         0.416\n",
       "1   6.93   3.73   6.969779      10.496168     -48.60702        -7.014\n",
       "2   7.70   9.74   7.633471       4.437463      27.87400         3.620\n",
       "3  11.50   6.34  10.908836      20.874265    -115.23000       -10.020\n",
       "4  12.88  10.46  12.098311       2.684063     -54.92032        -4.264"
      ]
     },
     "execution_count": 19,
     "metadata": {},
     "output_type": "execute_result"
    }
   ],
   "source": [
    "df"
   ]
  },
  {
   "cell_type": "code",
   "execution_count": 24,
   "metadata": {
    "colab": {
     "base_uri": "https://localhost:8080/",
     "height": 1000
    },
    "id": "CjoFWuyMMmqo",
    "outputId": "f63f4514-0009-4093-d8b6-b9fa3825abc5"
   },
   "outputs": [
    {
     "name": "stderr",
     "output_type": "stream",
     "text": [
      "<ipython-input-24-3a2e008c0924>:5: SettingWithCopyWarning: \n",
      "A value is trying to be set on a copy of a slice from a DataFrame.\n",
      "Try using .loc[row_indexer,col_indexer] = value instead\n",
      "\n",
      "See the caveats in the documentation: https://pandas.pydata.org/pandas-docs/stable/user_guide/indexing.html#returning-a-view-versus-a-copy\n",
      "  df_auto['y_pred'] = m * df_auto['x'] + b\n",
      "<ipython-input-24-3a2e008c0924>:8: SettingWithCopyWarning: \n",
      "A value is trying to be set on a copy of a slice from a DataFrame.\n",
      "Try using .loc[row_indexer,col_indexer] = value instead\n",
      "\n",
      "See the caveats in the documentation: https://pandas.pydata.org/pandas-docs/stable/user_guide/indexing.html#returning-a-view-versus-a-copy\n",
      "  df_auto['m_derivative'] = -(-2*df_auto['x']*(-b-m*df_auto['x']+df_auto['y']))\n",
      "<ipython-input-24-3a2e008c0924>:9: SettingWithCopyWarning: \n",
      "A value is trying to be set on a copy of a slice from a DataFrame.\n",
      "Try using .loc[row_indexer,col_indexer] = value instead\n",
      "\n",
      "See the caveats in the documentation: https://pandas.pydata.org/pandas-docs/stable/user_guide/indexing.html#returning-a-view-versus-a-copy\n",
      "  df_auto['b_derivative'] = -(-2*(-m*df_auto['x']+df_auto['y']-b))\n",
      "<ipython-input-24-3a2e008c0924>:13: SettingWithCopyWarning: \n",
      "A value is trying to be set on a copy of a slice from a DataFrame.\n",
      "Try using .loc[row_indexer,col_indexer] = value instead\n",
      "\n",
      "See the caveats in the documentation: https://pandas.pydata.org/pandas-docs/stable/user_guide/indexing.html#returning-a-view-versus-a-copy\n",
      "  df_auto['y_pred'] = m * df_auto['x'] + b\n"
     ]
    },
    {
     "name": "stdout",
     "output_type": "stream",
     "text": [
      "4.477676818138322\n"
     ]
    },
    {
     "data": {
      "text/plain": [
       "[<matplotlib.lines.Line2D at 0x2d84ff14fa0>]"
      ]
     },
     "execution_count": 24,
     "metadata": {},
     "output_type": "execute_result"
    },
    {
     "data": {
      "image/png": "[encoded data removed]",
      "text/plain": [
       "<Figure size 432x288 with 1 Axes>"
      ]
     },
     "metadata": {
      "needs_background": "light"
     },
     "output_type": "display_data"
    }
   ],
   "source": [
    "df_auto = df[['x','y']]\n",
    "m,b = 15, 23\n",
    "n = 10000\n",
    "learning_rate = 0.01\n",
    "df_auto['y_pred'] = m * df_auto['x'] + b\n",
    "\n",
    "for i in range(n):\n",
    "    df_auto['m_derivative'] = -(-2*df_auto['x']*(-b-m*df_auto['x']+df_auto['y']))\n",
    "    df_auto['b_derivative'] = -(-2*(-m*df_auto['x']+df_auto['y']-b))\n",
    "    m = m + learning_rate * df_auto['m_derivative'].mean()\n",
    "    b = b + learning_rate * df_auto['b_derivative'].mean()\n",
    "\n",
    "    df_auto['y_pred'] = m * df_auto['x'] + b\n",
    "    df_auto['squared_error'] = (df_auto['y'] - df_auto['y_pred'])**2\n",
    "print(df_auto['squared_error'].mean())\n",
    "\n",
    "plt.scatter(df_auto['x'], df_auto['y'])\n",
    "plt.plot(df_auto['x'], df_auto['y_pred'])"
   ]
  },
  {
   "cell_type": "code",
   "execution_count": null,
   "metadata": {
    "id": "vyeIKsEgOFZi"
   },
   "outputs": [],
   "source": []
  }
 ],
 "metadata": {
  "colab": {
   "collapsed_sections": [],
   "name": "Linear_Regression.ipynb",
   "provenance": []
  },
  "kernelspec": {
   "display_name": "Python 3",
   "language": "python",
   "name": "python3"
  },
  "language_info": {
   "codemirror_mode": {
    "name": "ipython",
    "version": 3
   },
   "file_extension": ".py",
   "mimetype": "text/x-python",
   "name": "python",
   "nbconvert_exporter": "python",
   "pygments_lexer": "ipython3",
   "version": "3.8.3"
  }
 },
 "nbformat": 4,
 "nbformat_minor": 4
}
